{
 "cells": [
  {
   "cell_type": "code",
   "execution_count": 1,
   "metadata": {},
   "outputs": [],
   "source": [
    "import string\n",
    "import re\n",
    "import csv"
   ]
  },
  {
   "cell_type": "code",
   "execution_count": 2,
   "metadata": {},
   "outputs": [
    {
     "name": "stdout",
     "output_type": "stream",
     "text": [
      "eng_tourism_set01.txt\n",
      "htd1002\t\n",
      "eng_tourism_set02.txt\n",
      "htd2002\t\n",
      "eng_tourism_set03.txt\n",
      "htd3002\t\n",
      "eng_tourism_set04.txt\n",
      "htd4002\t\n",
      "eng_tourism_set05.txt\n",
      "htd5002\t\n",
      "eng_tourism_set06.txt\n",
      "htd6002\t\n",
      "eng_tourism_set07.txt\n",
      "htd7002\t\n",
      "eng_tourism_set08.txt\n",
      "htd8002\t\n",
      "eng_tourism_set09.txt\n",
      "htd9002\t\n",
      "eng_tourism_set10.txt\n",
      "htd10002\t\n"
     ]
    },
    {
     "data": {
      "text/plain": [
       "10000"
      ]
     },
     "execution_count": 2,
     "metadata": {},
     "output_type": "execute_result"
    }
   ],
   "source": [
    "filename=\"eng_tourism_set01.txt\"\n",
    "idd=\"htd2\\t\"\n",
    "i=2\n",
    "cdata=[]\n",
    "for FileIncr in range(1,11):\n",
    "    print(filename)\n",
    "    fp=open(filename,mode=\"rt\",encoding=\"utf-8\")\n",
    "    data=fp.read()\n",
    "    fp.close()\n",
    "    data=data.strip(\"\\ufeff\")\n",
    "    l=data\n",
    "    for k in range(1,1000):\n",
    "        l=l.split(idd)\n",
    "        cdata.append(l[0])\n",
    "        if k==999:\n",
    "            cdata.append(l[1])\n",
    "        l=l[1]\n",
    "        i+=1\n",
    "        idd=idd.replace(str(i-1),str(i))\n",
    "    i+=1\n",
    "    idd=idd.replace(str(i-1),str(i))\n",
    "    print(idd)\n",
    "    filename=filename.replace(str(FileIncr),str(FileIncr+1))\n",
    "    if FileIncr==9:\n",
    "        filename = filename[:15] + filename[16:]\n",
    "len(cdata)"
   ]
  },
  {
   "cell_type": "code",
   "execution_count": 3,
   "metadata": {},
   "outputs": [
    {
     "data": {
      "text/plain": [
       "10000"
      ]
     },
     "execution_count": 3,
     "metadata": {},
     "output_type": "execute_result"
    }
   ],
   "source": [
    "tup=[]\n",
    "final_list=[]\n",
    "for i in cdata:\n",
    "    tup.append(i.strip())\n",
    "    tup[0]=tup[0].encode(encoding=\"utf-8\",errors=\"ignore\")\n",
    "    final_list.append(tup)\n",
    "    tup=[]\n",
    "len(final_list)"
   ]
  },
  {
   "cell_type": "code",
   "execution_count": 4,
   "metadata": {},
   "outputs": [
    {
     "data": {
      "text/plain": [
       "[[b'One\\\\CD gets\\\\VBZ Moksha\\\\NNP with\\\\IN a\\\\DT visit\\\\NN to\\\\TO the\\\\DT Saptapuris\\\\NNPS !\\\\.'],\n",
       " [b'Pilgrimage\\\\NN is\\\\VBZ of\\\\IN utmost\\\\JJ importance\\\\NN in\\\\IN Hinduism\\\\NNP .\\\\.'],\n",
       " [b'Although\\\\IN all\\\\PDT the\\\\DT pilgrimages\\\\NNS are\\\\VBP major\\\\JJ and\\\\CC important\\\\JJ ,\\\\, there\\\\EX is\\\\VBZ a\\\\DT great\\\\JJ importance\\\\NN and\\\\CC acceptance\\\\NN of\\\\IN the\\\\DT seven\\\\CD places\\\\NNS .\\\\.'],\n",
       " [b'All\\\\DT of\\\\IN these\\\\DT seven\\\\CD religious\\\\JJ places\\\\NNS are\\\\VBP described\\\\VBN as\\\\IN the\\\\DT Seven\\\\NNP Places\\\\NNPS or\\\\CC Saptpuris\\\\NNPS in\\\\IN the\\\\DT scriptures\\\\NNS .\\\\.'],\n",
       " [b'It\\\\PRP has\\\\VBZ been\\\\VBN stated\\\\VBN that\\\\IN a\\\\DT view\\\\NN of\\\\IN the\\\\DT Saptapuris\\\\NNP in\\\\IN the\\\\DT Chaturmas\\\\NNP is\\\\VBZ worth\\\\JJ providing\\\\VBG Moksha\\\\NNP for\\\\IN .\\\\.']]"
      ]
     },
     "execution_count": 4,
     "metadata": {},
     "output_type": "execute_result"
    }
   ],
   "source": [
    "final_list[:5]"
   ]
  },
  {
   "cell_type": "code",
   "execution_count": 5,
   "metadata": {},
   "outputs": [],
   "source": [
    "import csv\n",
    "with open(\"dataset.csv\",\"w\") as fp:\n",
    "    writer=csv.writer(fp)\n",
    "    writer.writerows(final_list)\n",
    "fp.close()"
   ]
  },
  {
   "cell_type": "code",
   "execution_count": 6,
   "metadata": {},
   "outputs": [],
   "source": [
    "import pandas as pd"
   ]
  },
  {
   "cell_type": "code",
   "execution_count": 9,
   "metadata": {},
   "outputs": [],
   "source": [
    "dataset=pd.read_csv('dataset.csv')"
   ]
  },
  {
   "cell_type": "code",
   "execution_count": 10,
   "metadata": {},
   "outputs": [
    {
     "data": {
      "text/html": [
       "<div>\n",
       "<style scoped>\n",
       "    .dataframe tbody tr th:only-of-type {\n",
       "        vertical-align: middle;\n",
       "    }\n",
       "\n",
       "    .dataframe tbody tr th {\n",
       "        vertical-align: top;\n",
       "    }\n",
       "\n",
       "    .dataframe thead th {\n",
       "        text-align: right;\n",
       "    }\n",
       "</style>\n",
       "<table border=\"1\" class=\"dataframe\">\n",
       "  <thead>\n",
       "    <tr style=\"text-align: right;\">\n",
       "      <th></th>\n",
       "      <th>Sentences</th>\n",
       "    </tr>\n",
       "  </thead>\n",
       "  <tbody>\n",
       "    <tr>\n",
       "      <th>0</th>\n",
       "      <td>b'One\\\\CD gets\\\\VBZ Moksha\\\\NNP with\\\\IN a\\\\DT...</td>\n",
       "    </tr>\n",
       "    <tr>\n",
       "      <th>1</th>\n",
       "      <td>b'Pilgrimage\\\\NN is\\\\VBZ of\\\\IN utmost\\\\JJ imp...</td>\n",
       "    </tr>\n",
       "    <tr>\n",
       "      <th>2</th>\n",
       "      <td>b'Although\\\\IN all\\\\PDT the\\\\DT pilgrimages\\\\N...</td>\n",
       "    </tr>\n",
       "    <tr>\n",
       "      <th>3</th>\n",
       "      <td>b'All\\\\DT of\\\\IN these\\\\DT seven\\\\CD religious...</td>\n",
       "    </tr>\n",
       "    <tr>\n",
       "      <th>4</th>\n",
       "      <td>b'It\\\\PRP has\\\\VBZ been\\\\VBN stated\\\\VBN that\\...</td>\n",
       "    </tr>\n",
       "  </tbody>\n",
       "</table>\n",
       "</div>"
      ],
      "text/plain": [
       "                                           Sentences\n",
       "0  b'One\\\\CD gets\\\\VBZ Moksha\\\\NNP with\\\\IN a\\\\DT...\n",
       "1  b'Pilgrimage\\\\NN is\\\\VBZ of\\\\IN utmost\\\\JJ imp...\n",
       "2  b'Although\\\\IN all\\\\PDT the\\\\DT pilgrimages\\\\N...\n",
       "3  b'All\\\\DT of\\\\IN these\\\\DT seven\\\\CD religious...\n",
       "4  b'It\\\\PRP has\\\\VBZ been\\\\VBN stated\\\\VBN that\\..."
      ]
     },
     "execution_count": 10,
     "metadata": {},
     "output_type": "execute_result"
    }
   ],
   "source": [
    "dataset[0:5]"
   ]
  },
  {
   "cell_type": "code",
   "execution_count": 11,
   "metadata": {},
   "outputs": [],
   "source": [
    "import re\n",
    "c=[]\n",
    "abc=[]\n",
    "for i in range(10000):\n",
    "    abc=[]\n",
    "    review=re.sub('[^a-zA-Z]',' ',dataset['Sentences'][i])\n",
    "    #review=review.lower()\n",
    "    review=review.split() \n",
    "    for k in review:\n",
    "        if k not in [\"b\",\"s\",\"YM\",\"i\",\"CC\",\"CD\",\"DT\",\"EX\",\"FW\",\"IN\",\"JJ\",\"JJR\",\"JJS\",\"LS\",\"MD\",\"NN\",\"NP\",\"NNP\",\"NNS\",\"NNPS\",\"PDT\",\"POS\",\"PRP\",\"TRP$\",\"RB\",\"RRB\",\"RBR\",\"RBS\",\"RP\",\"SYM\",\"TO\",\"UH\",\"VB\",\"VBD\",\"VBG\",\"VBN\",\"VBP\",\"VBZ\",\"WDT\",\"WP\",\"WP$\",\"WRB\"]:\n",
    "            abc.append(k)\n",
    "    s=\" \".join(abc)\n",
    "    s=s.lower()\n",
    "    c.append(s)"
   ]
  },
  {
   "cell_type": "code",
   "execution_count": 12,
   "metadata": {},
   "outputs": [
    {
     "data": {
      "text/plain": [
       "['one gets moksha with a visit to the saptapuris',\n",
       " 'pilgrimage is of utmost importance in hinduism',\n",
       " 'although all the pilgrimages are major and important there is a great importance and acceptance of the seven places',\n",
       " 'all of these seven religious places are described as the seven places or saptpuris in the scriptures',\n",
       " 'it has been stated that a view of the saptapuris in the chaturmas is worth providing moksha for']"
      ]
     },
     "execution_count": 12,
     "metadata": {},
     "output_type": "execute_result"
    }
   ],
   "source": [
    "c[0:5]"
   ]
  },
  {
   "cell_type": "code",
   "execution_count": 13,
   "metadata": {},
   "outputs": [
    {
     "data": {
      "text/plain": [
       "10000"
      ]
     },
     "execution_count": 13,
     "metadata": {},
     "output_type": "execute_result"
    }
   ],
   "source": [
    "tup=[]\n",
    "final_list=[]\n",
    "for i in c:\n",
    "    tup.append(i.strip())\n",
    "    #tup[0]=tup[0].encode(encoding=\"utf-8\",errors=\"ignore\")\n",
    "    final_list.append(tup)\n",
    "    tup=[]\n",
    "len(final_list)"
   ]
  },
  {
   "cell_type": "code",
   "execution_count": 14,
   "metadata": {},
   "outputs": [],
   "source": [
    "with open(\"english_datasets.csv\",\"w\") as fp:\n",
    "    writer=csv.writer(fp)\n",
    "    writer.writerows(final_list)\n",
    "fp.close()"
   ]
  },
  {
   "cell_type": "code",
   "execution_count": null,
   "metadata": {},
   "outputs": [],
   "source": []
  }
 ],
 "metadata": {
  "kernelspec": {
   "display_name": "Python 3",
   "language": "python",
   "name": "python3"
  },
  "language_info": {
   "codemirror_mode": {
    "name": "ipython",
    "version": 3
   },
   "file_extension": ".py",
   "mimetype": "text/x-python",
   "name": "python",
   "nbconvert_exporter": "python",
   "pygments_lexer": "ipython3",
   "version": "3.6.8"
  }
 },
 "nbformat": 4,
 "nbformat_minor": 2
}
